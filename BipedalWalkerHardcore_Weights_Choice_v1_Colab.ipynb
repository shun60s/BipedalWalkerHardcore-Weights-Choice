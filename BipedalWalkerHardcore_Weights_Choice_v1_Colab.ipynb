{
  "nbformat": 4,
  "nbformat_minor": 0,
  "metadata": {
    "colab": {
      "name": "BipedalWalkerHardcore-Weights-Choice_v1-Colab.ipynb",
      "provenance": [],
      "collapsed_sections": []
    },
    "kernelspec": {
      "name": "python3",
      "display_name": "Python 3"
    },
    "accelerator": "GPU"
  },
  "cells": [
    {
      "cell_type": "markdown",
      "metadata": {
        "id": "G2-EtV_r0-rU"
      },
      "source": [
        "**OpenAI Gym BipedalWalkerHardcore-v2\n",
        "\n",
        "Try to estimate obstacle condition from lidar information, and\n",
        "choose one of two mixed training weights. **\n",
        "\n",
        "in google colaboratory\n"
      ]
    },
    {
      "cell_type": "markdown",
      "metadata": {
        "id": "NkzSx6TM6STr"
      },
      "source": [
        "**Install module of BipedalWalker version 2**"
      ]
    },
    {
      "cell_type": "code",
      "metadata": {
        "id": "EzQ32C2pdhBX"
      },
      "source": [
        "!pip install torch==1.5.0 torchvision==0.6.0 torchaudio==0.5.0 setproctitle==1.1.10\n",
        "!pip install box2d-py==2.3.5\n",
        "!pip install 'gym[Box2D]'==0.10.11\n",
        "!pip install pyglet==1.3.2"
      ],
      "execution_count": null,
      "outputs": []
    },
    {
      "cell_type": "code",
      "metadata": {
        "id": "NY3zwhFTSOFV"
      },
      "source": [
        "!git clone https://github.com/shun60s/BipedalWalkerHardcore-Weights-Choice"
      ],
      "execution_count": null,
      "outputs": []
    },
    {
      "cell_type": "code",
      "metadata": {
        "id": "hltV-ECfcmeG"
      },
      "source": [
        "cd BipedalWalkerHardcore-Weights-Choice/"
      ],
      "execution_count": null,
      "outputs": []
    },
    {
      "cell_type": "markdown",
      "metadata": {
        "id": "I8v7rcz97TE8"
      },
      "source": [
        "**Check file tree**"
      ]
    },
    {
      "cell_type": "code",
      "metadata": {
        "id": "YJJp4cDI7QsF"
      },
      "source": [
        "!ls -l"
      ],
      "execution_count": null,
      "outputs": []
    },
    {
      "cell_type": "markdown",
      "metadata": {
        "id": "iKo9HFuJdjPE"
      },
      "source": [
        "**train BipedalWalkerhardcore obstacle condition estimation to chose weights**\n",
        "\n",
        "Stop manually to push play button."
      ]
    },
    {
      "cell_type": "code",
      "metadata": {
        "id": "krtdKbQ-wlzw"
      },
      "source": [
        "!python main.py --workers 24 --env BipedalWalkerHardcoreStateout-v2"
      ],
      "execution_count": null,
      "outputs": []
    },
    {
      "cell_type": "markdown",
      "metadata": {
        "id": "saoZqe2yphRl"
      },
      "source": [
        "Eval trained model. Output mp4 file will be saved."
      ]
    },
    {
      "cell_type": "code",
      "metadata": {
        "id": "T_gjoWG5S-Sd"
      },
      "source": [
        "\n",
        "\n",
        "!apt-get -qq -y install xvfb freeglut3-dev ffmpeg\n",
        "!pip -q install pyglet\n",
        "!pip -q install pyopengl\n",
        "!pip -q install pyvirtualdisplay\n",
        "!pip install pyyaml==3.12\n",
        "\n"
      ],
      "execution_count": null,
      "outputs": []
    },
    {
      "cell_type": "code",
      "metadata": {
        "id": "CEAqBTdJTLOO"
      },
      "source": [
        "# Start virtual display\n",
        "from pyvirtualdisplay import Display\n",
        "display = Display(visible=0, size=(1024, 768))\n",
        "display.start()\n",
        "import os"
      ],
      "execution_count": null,
      "outputs": []
    },
    {
      "cell_type": "code",
      "metadata": {
        "id": "nLLq0KnXpen1"
      },
      "source": [
        "!python gym_eval.py --env BipedalWalkerHardcoreStateout-v2  --num-episodes 1 --discrete-number 4"
      ],
      "execution_count": null,
      "outputs": []
    },
    {
      "cell_type": "markdown",
      "metadata": {
        "id": "Kow8elKRTXa2"
      },
      "source": [
        "Show output mp4 list"
      ]
    },
    {
      "cell_type": "code",
      "metadata": {
        "id": "sGYyM9kbTQLO"
      },
      "source": [
        "!ls BipedalWalkerHardcoreStateout-v2_monitor/*.mp4\n",
        "\n"
      ],
      "execution_count": null,
      "outputs": []
    },
    {
      "cell_type": "markdown",
      "metadata": {
        "id": "31bXD8FOTbsF"
      },
      "source": [
        "Load previous model file and train again."
      ]
    },
    {
      "cell_type": "code",
      "metadata": {
        "id": "DsVnuQJpTdxQ"
      },
      "source": [
        "!python main.py --workers 24 --env BipedalWalkerHardcoreStateout-v2  --load True"
      ],
      "execution_count": null,
      "outputs": []
    },
    {
      "cell_type": "markdown",
      "metadata": {
        "id": "OKS4Wegw8_MY"
      },
      "source": [
        "Load last model file and train again."
      ]
    },
    {
      "cell_type": "code",
      "metadata": {
        "id": "FMVnj-H58v_P"
      },
      "source": [
        "!python main.py --workers 24 --env BipedalWalkerHardcoreStateout-v2  --load-last True"
      ],
      "execution_count": null,
      "outputs": []
    }
  ]
}